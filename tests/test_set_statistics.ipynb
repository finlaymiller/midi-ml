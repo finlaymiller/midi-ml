{
 "cells": [
  {
   "cell_type": "code",
   "execution_count": 1,
   "metadata": {},
   "outputs": [
    {
     "name": "stderr",
     "output_type": "stream",
     "text": [
      "/home/finlay/miniconda/envs/midi-ml/lib/python3.9/site-packages/diffusers/models/transformers/transformer_2d.py:34: FutureWarning: `Transformer2DModelOutput` is deprecated and will be removed in version 1.0.0. Importing `Transformer2DModelOutput` from `diffusers.models.transformer_2d` is deprecated and this will be removed in a future version. Please use `from diffusers.models.modeling_outputs import Transformer2DModelOutput`, instead.\n",
      "  deprecate(\"Transformer2DModelOutput\", \"1.0.0\", deprecation_message)\n"
     ]
    },
    {
     "data": {
      "text/plain": [
       "<torch.autograd.grad_mode.set_grad_enabled at 0x7fcb048638e0>"
      ]
     },
     "execution_count": 1,
     "metadata": {},
     "output_type": "execute_result"
    }
   ],
   "source": [
    "import os\n",
    "import random\n",
    "import numpy as np\n",
    "from diffusers.pipelines.deprecated.spectrogram_diffusion.notes_encoder import (\n",
    "    SpectrogramNotesEncoder,\n",
    ")\n",
    "import torch\n",
    "from diffusers import MidiProcessor\n",
    "from midi_player import MIDIPlayer\n",
    "from midi_player.stylers import dark\n",
    "\n",
    "torch.set_grad_enabled(False)"
   ]
  },
  {
   "cell_type": "code",
   "execution_count": 2,
   "metadata": {},
   "outputs": [],
   "source": [
    "device = \"cuda:1\"\n",
    "input_path = \"../data/test set\"\n",
    "test_file = None\n",
    "batch_size = 8\n",
    "\n",
    "encoder_config = {\n",
    "    \"d_ff\": 2048,\n",
    "    \"d_kv\": 64,\n",
    "    \"d_model\": 768,\n",
    "    \"dropout_rate\": 0.1,\n",
    "    \"feed_forward_proj\": \"gated-gelu_pytorch_tanh\",\n",
    "    \"is_decoder\": False,\n",
    "    \"max_length\": 2048,\n",
    "    \"num_heads\": 12,\n",
    "    \"num_layers\": 12,\n",
    "    \"vocab_size\": 1536,\n",
    "}\n",
    "encoder_weights = \"../data/note_encoder.bin\""
   ]
  },
  {
   "cell_type": "code",
   "execution_count": 3,
   "metadata": {},
   "outputs": [
    {
     "data": {
      "text/plain": [
       "<All keys matched successfully>"
      ]
     },
     "execution_count": 3,
     "metadata": {},
     "output_type": "execute_result"
    }
   ],
   "source": [
    "processor = MidiProcessor()\n",
    "encoder = SpectrogramNotesEncoder(**encoder_config).cuda(device=device)\n",
    "encoder.eval()\n",
    "sd = torch.load(encoder_weights, weights_only=True)\n",
    "encoder.load_state_dict(sd)"
   ]
  },
  {
   "cell_type": "code",
   "execution_count": 4,
   "metadata": {},
   "outputs": [
    {
     "name": "stdout",
     "output_type": "stream",
     "text": [
      "tokenized 36 files\n"
     ]
    }
   ],
   "source": [
    "midi_tokens = dict()\n",
    "\n",
    "for midi_path in [\n",
    "    os.path.join(input_path, file)\n",
    "    for file in os.listdir(input_path)\n",
    "    if file.endswith(\".mid\")\n",
    "]:\n",
    "    midi_tokens[midi_path] = processor(midi_path)  # [1, NUM_TOKENS]\n",
    "\n",
    "keys = list(midi_tokens.keys())\n",
    "all_tokens = torch.cat(\n",
    "    [torch.IntTensor(midi_tokens[key][0]).view(1, -1) for key in keys]\n",
    ")  # [NUM_FILES, NUM_TOKENS]\n",
    "\n",
    "print(f\"tokenized {len(midi_tokens.keys())} files\")"
   ]
  },
  {
   "cell_type": "code",
   "execution_count": 5,
   "metadata": {},
   "outputs": [],
   "source": [
    "midi_embeddings = dict()\n",
    "for i in range(0, all_tokens.shape[0], batch_size):\n",
    "    batch = all_tokens[i : i + batch_size].cuda(\n",
    "        device=device\n",
    "    )  # [BATCH_SIZE, NUM_TOKENS]\n",
    "\n",
    "    with torch.autocast(\"cuda\"):\n",
    "        tokens_mask = batch > 0  # [varies]\n",
    "        tokens_embedded, tokens_mask = encoder(\n",
    "            encoder_input_tokens=batch, encoder_inputs_mask=tokens_mask\n",
    "        )\n",
    "\n",
    "    for idx in range(batch.shape[0]):\n",
    "        avg_embedding = tokens_embedded[idx][tokens_mask[idx]].mean(0)  # [LATENT_DIM]\n",
    "        midi_embeddings[keys[i + idx]] = avg_embedding"
   ]
  },
  {
   "cell_type": "code",
   "execution_count": 6,
   "metadata": {},
   "outputs": [
    {
     "name": "stdout",
     "output_type": "stream",
     "text": [
      "randomly selected test file data/test set/beats-060-06_long.mid\n"
     ]
    }
   ],
   "source": [
    "if test_file is None:\n",
    "    test_file = random.sample(keys, 1)[0]\n",
    "    print(f\"randomly selected test file {test_file}\")\n",
    "\n",
    "similarity_metric = lambda x, y: np.dot(x, y) / (np.linalg.norm(x) * np.linalg.norm(y))\n",
    "\n",
    "test_embedding = midi_embeddings[test_file]\n",
    "similarities = dict()\n",
    "for file, embedding in midi_embeddings.items():\n",
    "    similarities[file] = similarity_metric(\n",
    "        test_embedding.cpu().detach(), embedding.cpu().detach()\n",
    "    )"
   ]
  },
  {
   "cell_type": "code",
   "execution_count": 7,
   "metadata": {},
   "outputs": [
    {
     "name": "stdout",
     "output_type": "stream",
     "text": [
      "Index     Similarity     Filename\n",
      "--------------------------------------------------------------------------------\n",
      "0         1.0000         data/test set/beats-060-06_long.mid\n",
      "1         0.9804         data/test set/beats-060-06_threequarters.mid\n",
      "2         0.8548         data/test set/beats-060-06_fulllength.mid\n",
      "3         0.8544         data/test set/beats-060-06_short.mid\n",
      "4         0.4559         data/test set/intervals-060-09_1.mid\n",
      "5         0.4224         data/test set/intervals-060-09_2.mid\n",
      "6         0.4030         data/test set/segmentedgetest-060-03_trail.mid\n",
      "7         0.3732         data/test set/segmentedgetest-060-03_lead.mid\n",
      "8         0.3619         data/test set/alternating-060-02_cascas.mid\n",
      "9         0.3498         data/test set/alternating-060-02_baba-1-4shift.mid\n",
      "10        0.3414         data/test set/alternating-060-02_baba-1-16shift.mid\n",
      "11        0.3348         data/test set/alternating-060-02_baba-octup.mid\n",
      "12        0.3344         data/test set/alternating-060-02_baba-microshift.mid\n",
      "13        0.3338         data/test set/alternating-060-02_baba-tinyshift.mid\n",
      "14        0.3275         data/test set/alternating-060-02_baba.mid\n",
      "15        0.3273         data/test set/intervals-060-09_12.mid\n",
      "16        0.3042         data/test set/edgeroll-060-07_bottom.mid\n",
      "17        0.3020         data/test set/quarters-060-01_c.mid\n",
      "18        0.2776         data/test set/intervals-060-09_6.mid\n",
      "19        0.2586         data/test set/edgeroll-060-07_top.mid\n",
      "20        0.2538         data/test set/intervals-060-09_3.mid\n",
      "21        0.2523         data/test set/quarters-060-01_b.mid\n",
      "22        0.2472         data/test set/chords-060-04_cece.mid\n",
      "23        0.2417         data/test set/velocitytweaks-060-05_c4v20.mid\n",
      "24        0.2417         data/test set/velocitytweaks-060-05_c497.mid\n",
      "25        0.2417         data/test set/velocitytweaks-060-05_c4vel100.mid\n",
      "26        0.2201         data/test set/velocitytweaks-060-05_c3vel100.mid\n",
      "27        0.2032         data/test set/runs-060-08_fastdown.mid\n",
      "28        0.2027         data/test set/runs-060-08_slowdown.mid\n",
      "29        0.1995         data/test set/runs-060-08_slowup.mid\n",
      "30        0.1821         data/test set/played-060-10_runup.mid\n",
      "31        0.1760         data/test set/chords-060-04_cccc.mid\n",
      "32        0.1555         data/test set/chords-060-04_cgcg.mid\n",
      "33        0.1526         data/test set/runs-060-08_fastup.mid\n",
      "34        0.1521         data/test set/alternating-060-02_baba-octdown.mid\n",
      "35        0.1271         data/test set/chords-060-04_amf.mid\n"
     ]
    }
   ],
   "source": [
    "sorted_sims = sorted(similarities.items(), key=lambda x: x[1], reverse=True)\n",
    "\n",
    "print(f\"{'Index':<10}{'Similarity':<15}{'Filename'}\")\n",
    "print(\"-\" * 80)\n",
    "for idx, (filename, similarity) in enumerate(sorted_sims):\n",
    "    print(f\"{idx:<10}{similarity:<15.4f}{filename}\")"
   ]
  },
  {
   "cell_type": "markdown",
   "metadata": {},
   "source": [
    "**enter the index of the file you want to listen to:**"
   ]
  },
  {
   "cell_type": "code",
   "execution_count": 14,
   "metadata": {},
   "outputs": [],
   "source": [
    "file_index = 1"
   ]
  },
  {
   "cell_type": "code",
   "execution_count": 15,
   "metadata": {},
   "outputs": [
    {
     "data": {
      "text/html": [
       "<iframe srcdoc=\"&lt;script src=&quot;https://cdn.jsdelivr.net/combine/npm/tone@14.7.58,npm/@magenta/music@1.23.1/es6/core.js,npm/focus-visible@5,npm/html-midi-player@1.5.0&quot;&gt;&lt;/script&gt;\n",
       "\n",
       "&lt;style&gt;\n",
       "/* Custom player style */\n",
       "p { \n",
       "  margin:0; \n",
       "  color: #c4c4c4; /* mid-lightness text color for title, intended for dark backgrounds */\n",
       "}\n",
       "\n",
       "#section135 midi-player {\n",
       "  display: block;\n",
       "  width: inherit;\n",
       "  margin: 4px;\n",
       "  margin-bottom: 0;\n",
       "  color: #d4d4d4; /* Lighter text color for better readability */\n",
       "}\n",
       "#section135 midi-player::part(control-panel) {\n",
       "  background: #222; /* Dark background */\n",
       "  border: 2px solid #888; /* Lightened border color for contrast */\n",
       "  border-radius: 10px 10px 0 0;\n",
       "}\n",
       "#section135 midi-player::part(play-button) {\n",
       "  color: #ffffff; /* White text for visibility */\n",
       "  border: 2px solid currentColor;\n",
       "  background-color: #6c7a89; \n",
       "  border-radius: 20px;\n",
       "  transition: all 0.2s;\n",
       "  content: &#x27;hello&#x27;;\n",
       "}\n",
       "#section135 midi-player::part(play-button):hover {\n",
       "  color: #00a; \n",
       "  background-color: #9fafc9; \n",
       "  border-radius: 10px;\n",
       "}\n",
       "#section135 midi-player::part(time) {\n",
       "  font-family: monospace; /* Monospace font for time */\n",
       "}\n",
       "\n",
       "/* Custom visualizer style */\n",
       "#section135 midi-visualizer .piano-roll-visualizer {\n",
       "  background: #333; /* Dark background for visualizer */\n",
       "  border: 2px solid #505050; /* Dark border for subtle appearance */\n",
       "  border-top: none;\n",
       "  border-radius: 0 0 10px 10px;\n",
       "  margin: 4px;\n",
       "  width: inherit;\n",
       "  margin-top: 0;\n",
       "  overflow: auto;\n",
       "}\n",
       "#section135 midi-visualizer svg rect.note {\n",
       "  opacity: 0.9; \n",
       "  stroke-width: 1; /* Stroke width for note clarity */\n",
       "}\n",
       "\n",
       "/* Different instrument colors */\n",
       "#section135 midi-visualizer svg rect.note[data-instrument=&quot;0&quot;]{\n",
       "  fill: #7aa6ed; /*  blue for Instrument 0 */\n",
       "  stroke: #444; \n",
       "}\n",
       "#section135 midi-visualizer svg rect.note[data-instrument=&quot;2&quot;]{\n",
       "  fill: #d586d0; /* purple for Instrument 2 for consistency */\n",
       "  stroke: #444; /* White stroke for visibility */\n",
       "}\n",
       "#section135 midi-visualizer svg rect.note[data-is-drum=&quot;true&quot;]{\n",
       "  fill: brightorange; \n",
       "  stroke: #bbb;\n",
       "}\n",
       "#section135 midi-visualizer svg rect.note.active {\n",
       "  opacity: 0.9; /* Highlight active notes */\n",
       "  stroke: #ddd; /* White stroke for maximum contrast */\n",
       "  stroke-width: 2; /* Thicker stroke for active notes */\n",
       "}\n",
       "&lt;/style&gt;\n",
       "\n",
       "          &lt;section id=&quot;section135&quot;&gt;&lt;p style=&quot;text-align:left;font-family:Arial;&quot;&gt;beats-060-06_long.mid&lt;span style=&quot;float:right;&quot;&gt;&lt;a href=&quot;data:audio/midi;base64,TVRoZAAAAAYAAAABAGBNVHJrAAABKQD/AxFiZWF0cy0wNjAtMDZfbG9uZwD/WAQEAiQIAP9YBAQCJAhgkEZvFYBGQAOQRhEVgEZAA5BGbxWARkADkEYSFYBGQAOQRiEVgEZAA5BGOxWARkADkEZSFYBGQAOQRm0VgEZAA5BGbRWARkADkEZSFYBGQAOQRjsVgEZAA5BGIRWARkADkEYSFYBGQAOQRm8VgEZAA5BGERWARkADkEZvFYBGQAOQRm8VgEZAA5BGERWARkADkEZvFYBGQAOQRhIVgEZAA5BGIRWARkADkEY7FYBGQAOQRlIVgEZAA5BGbRWARkADkEZtFYBGQAOQRlIVgEZAA5BGOxWARkADkEYhFYBGQAOQRhIVgEZAA5BGbxWARkADkEYRFYBGQAOQRm8VgEZAAP8vAA==&quot; target=&quot;_blank&quot;&gt;Download MIDI&lt;/a&gt;&lt;br&gt;&lt;/span&gt;&lt;/p&gt;\n",
       "          &lt;midi-player src=data:audio/midi;base64,TVRoZAAAAAYAAAABAGBNVHJrAAABKQD/AxFiZWF0cy0wNjAtMDZfbG9uZwD/WAQEAiQIAP9YBAQCJAhgkEZvFYBGQAOQRhEVgEZAA5BGbxWARkADkEYSFYBGQAOQRiEVgEZAA5BGOxWARkADkEZSFYBGQAOQRm0VgEZAA5BGbRWARkADkEZSFYBGQAOQRjsVgEZAA5BGIRWARkADkEYSFYBGQAOQRm8VgEZAA5BGERWARkADkEZvFYBGQAOQRm8VgEZAA5BGERWARkADkEZvFYBGQAOQRhIVgEZAA5BGIRWARkADkEY7FYBGQAOQRlIVgEZAA5BGbRWARkADkEZtFYBGQAOQRlIVgEZAA5BGOxWARkADkEYhFYBGQAOQRhIVgEZAA5BGbxWARkADkEYRFYBGQAOQRm8VgEZAAP8vAA== sound-font visualizer=&quot;#section135 midi-visualizer&quot;&gt;&lt;/midi-player&gt;\n",
       "          &lt;midi-visualizer src=data:audio/midi;base64,TVRoZAAAAAYAAAABAGBNVHJrAAABKQD/AxFiZWF0cy0wNjAtMDZfbG9uZwD/WAQEAiQIAP9YBAQCJAhgkEZvFYBGQAOQRhEVgEZAA5BGbxWARkADkEYSFYBGQAOQRiEVgEZAA5BGOxWARkADkEZSFYBGQAOQRm0VgEZAA5BGbRWARkADkEZSFYBGQAOQRjsVgEZAA5BGIRWARkADkEYSFYBGQAOQRm8VgEZAA5BGERWARkADkEZvFYBGQAOQRm8VgEZAA5BGERWARkADkEZvFYBGQAOQRhIVgEZAA5BGIRWARkADkEY7FYBGQAOQRlIVgEZAA5BGbRWARkADkEZtFYBGQAOQRlIVgEZAA5BGOxWARkADkEYhFYBGQAOQRhIVgEZAA5BGbxWARkADkEYRFYBGQAOQRm8VgEZAAP8vAA== type=piano-roll&gt;&lt;/midi-visualizer&gt;\n",
       "          &lt;/section&gt;\n",
       "          \" width=\"100%\" height=\"300\"\n",
       "            style=\"border:none !important;\"\n",
       "            \"allowfullscreen\" \"webkitallowfullscreen\" \"mozallowfullscreen\">'\n",
       "            </iframe>"
      ],
      "text/plain": [
       "<midi_player.midi_player.MIDIPlayer at 0x7fcae175d820>"
      ]
     },
     "execution_count": 15,
     "metadata": {},
     "output_type": "execute_result"
    }
   ],
   "source": [
    "# test file\n",
    "MIDIPlayer(test_file, 300, styler=dark, title=os.path.basename(test_file))"
   ]
  },
  {
   "cell_type": "code",
   "execution_count": 16,
   "metadata": {},
   "outputs": [
    {
     "data": {
      "text/html": [
       "<iframe srcdoc=\"&lt;script src=&quot;https://cdn.jsdelivr.net/combine/npm/tone@14.7.58,npm/@magenta/music@1.23.1/es6/core.js,npm/focus-visible@5,npm/html-midi-player@1.5.0&quot;&gt;&lt;/script&gt;\n",
       "\n",
       "&lt;style&gt;\n",
       "/* Custom player style */\n",
       "p { \n",
       "  margin:0; \n",
       "  color: #c4c4c4; /* mid-lightness text color for title, intended for dark backgrounds */\n",
       "}\n",
       "\n",
       "#section176 midi-player {\n",
       "  display: block;\n",
       "  width: inherit;\n",
       "  margin: 4px;\n",
       "  margin-bottom: 0;\n",
       "  color: #d4d4d4; /* Lighter text color for better readability */\n",
       "}\n",
       "#section176 midi-player::part(control-panel) {\n",
       "  background: #222; /* Dark background */\n",
       "  border: 2px solid #888; /* Lightened border color for contrast */\n",
       "  border-radius: 10px 10px 0 0;\n",
       "}\n",
       "#section176 midi-player::part(play-button) {\n",
       "  color: #ffffff; /* White text for visibility */\n",
       "  border: 2px solid currentColor;\n",
       "  background-color: #6c7a89; \n",
       "  border-radius: 20px;\n",
       "  transition: all 0.2s;\n",
       "  content: &#x27;hello&#x27;;\n",
       "}\n",
       "#section176 midi-player::part(play-button):hover {\n",
       "  color: #00a; \n",
       "  background-color: #9fafc9; \n",
       "  border-radius: 10px;\n",
       "}\n",
       "#section176 midi-player::part(time) {\n",
       "  font-family: monospace; /* Monospace font for time */\n",
       "}\n",
       "\n",
       "/* Custom visualizer style */\n",
       "#section176 midi-visualizer .piano-roll-visualizer {\n",
       "  background: #333; /* Dark background for visualizer */\n",
       "  border: 2px solid #505050; /* Dark border for subtle appearance */\n",
       "  border-top: none;\n",
       "  border-radius: 0 0 10px 10px;\n",
       "  margin: 4px;\n",
       "  width: inherit;\n",
       "  margin-top: 0;\n",
       "  overflow: auto;\n",
       "}\n",
       "#section176 midi-visualizer svg rect.note {\n",
       "  opacity: 0.9; \n",
       "  stroke-width: 1; /* Stroke width for note clarity */\n",
       "}\n",
       "\n",
       "/* Different instrument colors */\n",
       "#section176 midi-visualizer svg rect.note[data-instrument=&quot;0&quot;]{\n",
       "  fill: #7aa6ed; /*  blue for Instrument 0 */\n",
       "  stroke: #444; \n",
       "}\n",
       "#section176 midi-visualizer svg rect.note[data-instrument=&quot;2&quot;]{\n",
       "  fill: #d586d0; /* purple for Instrument 2 for consistency */\n",
       "  stroke: #444; /* White stroke for visibility */\n",
       "}\n",
       "#section176 midi-visualizer svg rect.note[data-is-drum=&quot;true&quot;]{\n",
       "  fill: brightorange; \n",
       "  stroke: #bbb;\n",
       "}\n",
       "#section176 midi-visualizer svg rect.note.active {\n",
       "  opacity: 0.9; /* Highlight active notes */\n",
       "  stroke: #ddd; /* White stroke for maximum contrast */\n",
       "  stroke-width: 2; /* Thicker stroke for active notes */\n",
       "}\n",
       "&lt;/style&gt;\n",
       "\n",
       "          &lt;section id=&quot;section176&quot;&gt;&lt;p style=&quot;text-align:left;font-family:Arial;&quot;&gt;chords-060-04_amf.mid&lt;span style=&quot;float:right;&quot;&gt;&lt;a href=&quot;data:audio/midi;base64,TVRoZAAAAAYAAAABAGBNVHJrAAABLQD/AxFjaG9yZHMtMDYwLTA0X2FtZgD/WAQEAiQIAP9YBAQCJAhgkDllAJA8ZQCQQGUAkEVlgQSAOUAAgDxAAIBAQACARUAMkCllAJAwZQCQNWUAkDllJIApQACAMEAAgDVAAIA5QAyQOWUAkDxlAJBAZQCQRWWBBIA5QACAPEAAgEBAAIBFQAyQKWUAkDBlAJA1ZQCQOWUkgClAAIAwQACANUAAgDlADJA5ZQCQPGUAkEBlAJBFZYEEgDlAAIA8QACAQEAAgEVADJApZQCQMGUAkDVlAJA5ZSSAKUAAgDBAAIA1QACAOUAMkDllAJA8ZQCQQGUAkEVlgQSAOUAAgDxAAIBAQACARUAMkCllAJAwZQCQNWUAkDllJIApQACAMEAAgDVAAIA5QAD/LwA=&quot; target=&quot;_blank&quot;&gt;Download MIDI&lt;/a&gt;&lt;br&gt;&lt;/span&gt;&lt;/p&gt;\n",
       "          &lt;midi-player src=data:audio/midi;base64,TVRoZAAAAAYAAAABAGBNVHJrAAABLQD/AxFjaG9yZHMtMDYwLTA0X2FtZgD/WAQEAiQIAP9YBAQCJAhgkDllAJA8ZQCQQGUAkEVlgQSAOUAAgDxAAIBAQACARUAMkCllAJAwZQCQNWUAkDllJIApQACAMEAAgDVAAIA5QAyQOWUAkDxlAJBAZQCQRWWBBIA5QACAPEAAgEBAAIBFQAyQKWUAkDBlAJA1ZQCQOWUkgClAAIAwQACANUAAgDlADJA5ZQCQPGUAkEBlAJBFZYEEgDlAAIA8QACAQEAAgEVADJApZQCQMGUAkDVlAJA5ZSSAKUAAgDBAAIA1QACAOUAMkDllAJA8ZQCQQGUAkEVlgQSAOUAAgDxAAIBAQACARUAMkCllAJAwZQCQNWUAkDllJIApQACAMEAAgDVAAIA5QAD/LwA= sound-font visualizer=&quot;#section176 midi-visualizer&quot;&gt;&lt;/midi-player&gt;\n",
       "          &lt;midi-visualizer src=data:audio/midi;base64,TVRoZAAAAAYAAAABAGBNVHJrAAABLQD/AxFjaG9yZHMtMDYwLTA0X2FtZgD/WAQEAiQIAP9YBAQCJAhgkDllAJA8ZQCQQGUAkEVlgQSAOUAAgDxAAIBAQACARUAMkCllAJAwZQCQNWUAkDllJIApQACAMEAAgDVAAIA5QAyQOWUAkDxlAJBAZQCQRWWBBIA5QACAPEAAgEBAAIBFQAyQKWUAkDBlAJA1ZQCQOWUkgClAAIAwQACANUAAgDlADJA5ZQCQPGUAkEBlAJBFZYEEgDlAAIA8QACAQEAAgEVADJApZQCQMGUAkDVlAJA5ZSSAKUAAgDBAAIA1QACAOUAMkDllAJA8ZQCQQGUAkEVlgQSAOUAAgDxAAIBAQACARUAMkCllAJAwZQCQNWUAkDllJIApQACAMEAAgDVAAIA5QAD/LwA= type=piano-roll&gt;&lt;/midi-visualizer&gt;\n",
       "          &lt;/section&gt;\n",
       "          \" width=\"100%\" height=\"300\"\n",
       "            style=\"border:none !important;\"\n",
       "            \"allowfullscreen\" \"webkitallowfullscreen\" \"mozallowfullscreen\">'\n",
       "            </iframe>"
      ],
      "text/plain": [
       "<midi_player.midi_player.MIDIPlayer at 0x7fcae1759ca0>"
      ]
     },
     "execution_count": 16,
     "metadata": {},
     "output_type": "execute_result"
    }
   ],
   "source": [
    "# comparison file\n",
    "comparison_file = sorted_sims[file_index][0]\n",
    "MIDIPlayer(comparison_file, 300, styler=dark, title=os.path.basename(comparison_file))"
   ]
  }
 ],
 "metadata": {
  "kernelspec": {
   "display_name": "midi-ml",
   "language": "python",
   "name": "python3"
  },
  "language_info": {
   "codemirror_mode": {
    "name": "ipython",
    "version": 3
   },
   "file_extension": ".py",
   "mimetype": "text/x-python",
   "name": "python",
   "nbconvert_exporter": "python",
   "pygments_lexer": "ipython3",
   "version": "3.12.8"
  }
 },
 "nbformat": 4,
 "nbformat_minor": 2
}
