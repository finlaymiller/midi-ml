{
 "cells": [
  {
   "cell_type": "markdown",
   "metadata": {},
   "source": [
    "# embedding analytics\n",
    "\n",
    "some functions to assess the usefulness of embeddings\n",
    "\n",
    "TODO: compare to multiple tracks"
   ]
  },
  {
   "cell_type": "markdown",
   "metadata": {},
   "source": [
    "## imports"
   ]
  },
  {
   "cell_type": "code",
   "execution_count": 1,
   "metadata": {},
   "outputs": [],
   "source": [
    "import os\n",
    "import mido\n",
    "import torch\n",
    "import random\n",
    "import numpy as np\n",
    "import pretty_midi\n",
    "import matplotlib.pyplot as plt\n",
    "\n",
    "plt.style.use(\"dark_background\")"
   ]
  },
  {
   "cell_type": "code",
   "execution_count": 2,
   "metadata": {},
   "outputs": [],
   "source": [
    "VALID_EXTENSIONS = (\".mid\", \".midi\")\n",
    "WEIGHT_PRS = True\n",
    "parent_dir = \"/media/nova/Datasets/sageev-midi/20250110/segmented/\"\n",
    "# test_file = \"/media/nova/Datasets/sageev-midi/20250110/segmented/20240511-088-03/20240511-088-03_0169-0174.mid\"\n",
    "test_file = \"/media/nova/Datasets/sageev-midi/20250110/segmented/20240121-070-01/20240121-070-01_0041-0047.mid\""
   ]
  },
  {
   "cell_type": "markdown",
   "metadata": {},
   "source": [
    "## representation functions\n",
    "\n",
    "currently supported: pitch histogram (weighted & unweighted), spectrogram diffusion embeddings\n",
    "\n",
    "to add: clamp embeddings, blurred piano rolls"
   ]
  },
  {
   "cell_type": "code",
   "execution_count": 3,
   "metadata": {},
   "outputs": [],
   "source": [
    "def load_embedding(midi_path: str) -> torch.tensor:\n",
    "    midi_name = os.path.splitext(os.path.basename(midi_path))[0]\n",
    "    embedding_path = os.path.join(\"..\", \"data\", \"embeddings\", midi_name + \".pt\")\n",
    "    return torch.load(embedding_path, weights_only=False).flatten()"
   ]
  },
  {
   "cell_type": "code",
   "execution_count": 4,
   "metadata": {},
   "outputs": [],
   "source": [
    "def load_pr(midi_path: str) -> np.ndarray:\n",
    "    return pretty_midi.PrettyMIDI(midi_path).get_pitch_class_histogram(\n",
    "        use_duration=WEIGHT_PRS, use_velocity=WEIGHT_PRS\n",
    "    )"
   ]
  },
  {
   "cell_type": "code",
   "execution_count": 5,
   "metadata": {},
   "outputs": [],
   "source": [
    "# weighted piano roll\n",
    "# representation_function = lambda x: load_pr(x)\n",
    "\n",
    "# spectrogram diffusion embeddings\n",
    "representation_function = lambda x: load_embedding(x)"
   ]
  },
  {
   "cell_type": "markdown",
   "metadata": {},
   "source": [
    "## similarity functions\n",
    "\n",
    "currently supported: cosine similarity\n",
    "\n",
    "to add: euclidean, manhattan, ...?"
   ]
  },
  {
   "cell_type": "code",
   "execution_count": 6,
   "metadata": {},
   "outputs": [],
   "source": [
    "# cosine similarity\n",
    "similarity_metric = lambda x, y: np.dot(x, y) / (np.linalg.norm(x) * np.linalg.norm(y))"
   ]
  },
  {
   "cell_type": "markdown",
   "metadata": {},
   "source": [
    "## load filesystem"
   ]
  },
  {
   "cell_type": "code",
   "execution_count": 7,
   "metadata": {},
   "outputs": [
    {
     "name": "stdout",
     "output_type": "stream",
     "text": [
      "['/media/nova/Datasets/sageev-midi/20250110/segmented/20240312-080-05', '/media/nova/Datasets/sageev-midi/20250110/segmented/20240402-065-01']\n"
     ]
    }
   ],
   "source": [
    "# extract representations for all segments\n",
    "other_tracks = random.sample(\n",
    "    [os.path.join(parent_dir, track) for track in os.listdir(parent_dir)], 2\n",
    ")\n",
    "print(other_tracks)"
   ]
  },
  {
   "cell_type": "code",
   "execution_count": 8,
   "metadata": {},
   "outputs": [
    {
     "name": "stdout",
     "output_type": "stream",
     "text": [
      "midi path is /media/nova/Datasets/sageev-midi/20250110/segmented/20240121-070-01\n",
      "midi file is 20240121-070-01_0041-0047.mid\n",
      "midi segments (138) is ['/media/nova/Datasets/sageev-midi/20250110/segmented/20240312-080-05/20240312-080-05_0179-0185.mid', '/media/nova/Datasets/sageev-midi/20250110/segmented/20240312-080-05/20240312-080-05_0029-0035.mid', '/media/nova/Datasets/sageev-midi/20250110/segmented/20240312-080-05/20240312-080-05_0077-0083.mid']\n",
      "segment index is 93\n"
     ]
    }
   ],
   "source": [
    "midi_file = os.path.basename(test_file)\n",
    "\n",
    "midi_segments = []\n",
    "for p_midi in other_tracks + [os.path.dirname(test_file)]:\n",
    "    midi_segments += [\n",
    "        os.path.join(p_midi, segment)\n",
    "        for segment in os.listdir(p_midi)\n",
    "        if segment.endswith(VALID_EXTENSIONS)\n",
    "    ]\n",
    "print(f\"midi path is {p_midi}\")\n",
    "print(f\"midi file is {midi_file}\")\n",
    "print(f\"midi segments ({len(midi_segments)}) is {midi_segments[:3]}\")\n",
    "\n",
    "try:\n",
    "    segment_index = midi_segments.index(test_file)\n",
    "    print(f\"segment index is {segment_index}\")\n",
    "except ValueError:\n",
    "    print(f\"ERROR: couldn't find key midi file in segment list\")"
   ]
  },
  {
   "cell_type": "markdown",
   "metadata": {},
   "source": [
    "## calculate the similarities"
   ]
  },
  {
   "cell_type": "code",
   "execution_count": 9,
   "metadata": {},
   "outputs": [
    {
     "name": "stdout",
     "output_type": "stream",
     "text": [
      "self-similarity for key midi file is 1.00000\n"
     ]
    }
   ],
   "source": [
    "segment_representations = [\n",
    "    representation_function(segment) for segment in midi_segments\n",
    "]\n",
    "\n",
    "# get the representation of the specified segment\n",
    "target_representation = representation_function(test_file)\n",
    "\n",
    "# calculate similarity for all segments\n",
    "similarities = [\n",
    "    similarity_metric(representation_function(test_file), representation)\n",
    "    for representation in segment_representations\n",
    "]\n",
    "# do a quick validity test\n",
    "key_sim = similarity_metric(\n",
    "    target_representation, segment_representations[segment_index]\n",
    ")\n",
    "print(f\"self-similarity for key midi file is {key_sim:.05f}\")\n",
    "\n",
    "# normalize similarities to [0, 1] range\n",
    "min_similarity, max_similarity = min(similarities), max(similarities)\n",
    "normalized_similarities = [\n",
    "    (sim - min_similarity) / (max_similarity - min_similarity) for sim in similarities\n",
    "]"
   ]
  },
  {
   "cell_type": "code",
   "execution_count": 10,
   "metadata": {},
   "outputs": [
    {
     "data": {
      "text/plain": [
       "138"
      ]
     },
     "execution_count": 10,
     "metadata": {},
     "output_type": "execute_result"
    }
   ],
   "source": [
    "len(similarities)"
   ]
  },
  {
   "cell_type": "markdown",
   "metadata": {},
   "source": [
    "## similarity plot\n",
    "\n",
    "visualize the similarity of the chosen segment against the entire track"
   ]
  },
  {
   "cell_type": "code",
   "execution_count": 22,
   "metadata": {},
   "outputs": [
    {
     "data": {
      "image/png": "[encoded data removed]",
      "text/plain": [
       "<Figure size 1000x600 with 1 Axes>"
      ]
     },
     "metadata": {},
     "output_type": "display_data"
    }
   ],
   "source": [
    "def plot_similarity_bars(similarities: list):\n",
    "    \"\"\"Plot a bar chart of normalized cosine similarities with indices labeled above each bar.\n",
    "\n",
    "    Args:\n",
    "        similarities (list): A list of normalized cosine similarities (values between 0 and 1).\n",
    "    \"\"\"\n",
    "    indices = np.arange(len(similarities))\n",
    "\n",
    "    plt.figure(figsize=(10, 6))\n",
    "    bars = plt.bar(indices, similarities, color=\"skyblue\", edgecolor=\"black\", alpha=0.7)\n",
    "\n",
    "    # add labels above each bar\n",
    "    for idx, bar in enumerate(bars):\n",
    "        height = bar.get_height()\n",
    "        plt.text(\n",
    "            bar.get_x() + bar.get_width() / 2.0,\n",
    "            height + 0.02,  # slightly above the bar\n",
    "            f\"{idx}\",\n",
    "            ha=\"center\",\n",
    "            va=\"bottom\",\n",
    "            fontsize=10,\n",
    "        )\n",
    "\n",
    "    plt.xlabel(\"Index\")\n",
    "    plt.ylabel(\"Cosine Similarity\")\n",
    "    plt.title(\"Cosine Similarities Bar Chart\")\n",
    "    plt.xticks(indices)\n",
    "    plt.ylim(0, 1.1)  # set y-axis range slightly above 1 for better label visibility\n",
    "    plt.grid(axis=\"y\", linestyle=\"--\", alpha=0.5)\n",
    "    plt.show()\n",
    "\n",
    "\n",
    "plot_similarity_bars(similarities)"
   ]
  },
  {
   "cell_type": "markdown",
   "metadata": {},
   "source": [
    "## file playback\n",
    "\n",
    "listen to the original file, best 3 matches, and worst match, within the same track, not within the entire dataset."
   ]
  },
  {
   "cell_type": "code",
   "execution_count": 12,
   "metadata": {},
   "outputs": [],
   "source": [
    "from midi_player import MIDIPlayer\n",
    "from midi_player.stylers import dark\n",
    "\n",
    "matched_sims = sorted(\n",
    "    list(zip(midi_segments, similarities)), key=lambda x: x[1], reverse=True\n",
    ")"
   ]
  },
  {
   "cell_type": "markdown",
   "metadata": {},
   "source": [
    "### original file"
   ]
  },
  {
   "cell_type": "code",
   "execution_count": 13,
   "metadata": {},
   "outputs": [
    {
     "name": "stdout",
     "output_type": "stream",
     "text": [
      "20240121-070-01_0041-0047.mid has similarity 1.000 to 20240121-070-01_0041-0047.mid\n"
     ]
    },
    {
     "data": {
      "text/html": [
       "<iframe srcdoc=\"&lt;script src=&quot;https://cdn.jsdelivr.net/combine/npm/tone@14.7.58,npm/@magenta/music@1.23.1/es6/core.js,npm/focus-visible@5,npm/html-midi-player@1.5.0&quot;&gt;&lt;/script&gt;\n",
       "\n",
       "&lt;style&gt;\n",
       "/* Custom player style */\n",
       "p { \n",
       "  margin:0; \n",
       "  color: #c4c4c4; /* mid-lightness text color for title, intended for dark backgrounds */\n",
       "}\n",
       "\n",
       "#section11 midi-player {\n",
       "  display: block;\n",
       "  width: inherit;\n",
       "  margin: 4px;\n",
       "  margin-bottom: 0;\n",
       "  color: #d4d4d4; /* Lighter text color for better readability */\n",
       "}\n",
       "#section11 midi-player::part(control-panel) {\n",
       "  background: #222; /* Dark background */\n",
       "  border: 2px solid #888; /* Lightened border color for contrast */\n",
       "  border-radius: 10px 10px 0 0;\n",
       "}\n",
       "#section11 midi-player::part(play-button) {\n",
       "  color: #ffffff; /* White text for visibility */\n",
       "  border: 2px solid currentColor;\n",
       "  background-color: #6c7a89; \n",
       "  border-radius: 20px;\n",
       "  transition: all 0.2s;\n",
       "  content: &#x27;hello&#x27;;\n",
       "}\n",
       "#section11 midi-player::part(play-button):hover {\n",
       "  color: #00a; \n",
       "  background-color: #9fafc9; \n",
       "  border-radius: 10px;\n",
       "}\n",
       "#section11 midi-player::part(time) {\n",
       "  font-family: monospace; /* Monospace font for time */\n",
       "}\n",
       "\n",
       "/* Custom visualizer style */\n",
       "#section11 midi-visualizer .piano-roll-visualizer {\n",
       "  background: #333; /* Dark background for visualizer */\n",
       "  border: 2px solid #505050; /* Dark border for subtle appearance */\n",
       "  border-top: none;\n",
       "  border-radius: 0 0 10px 10px;\n",
       "  margin: 4px;\n",
       "  width: inherit;\n",
       "  margin-top: 0;\n",
       "  overflow: auto;\n",
       "}\n",
       "#section11 midi-visualizer svg rect.note {\n",
       "  opacity: 0.9; \n",
       "  stroke-width: 1; /* Stroke width for note clarity */\n",
       "}\n",
       "\n",
       "/* Different instrument colors */\n",
       "#section11 midi-visualizer svg rect.note[data-instrument=&quot;0&quot;]{\n",
       "  fill: #7aa6ed; /*  blue for Instrument 0 */\n",
       "  stroke: #444; \n",
       "}\n",
       "#section11 midi-visualizer svg rect.note[data-instrument=&quot;2&quot;]{\n",
       "  fill: #d586d0; /* purple for Instrument 2 for consistency */\n",
       "  stroke: #444; /* White stroke for visibility */\n",
       "}\n",
       "#section11 midi-visualizer svg rect.note[data-is-drum=&quot;true&quot;]{\n",
       "  fill: brightorange; \n",
       "  stroke: #bbb;\n",
       "}\n",
       "#section11 midi-visualizer svg rect.note.active {\n",
       "  opacity: 0.9; /* Highlight active notes */\n",
       "  stroke: #ddd; /* White stroke for maximum contrast */\n",
       "  stroke-width: 2; /* Thicker stroke for active notes */\n",
       "}\n",
       "&lt;/style&gt;\n",
       "\n",
       "          &lt;section id=&quot;section11&quot;&gt;&lt;p style=&quot;text-align:left;font-family:Arial;&quot;&gt;&amp;nbsp;&lt;span style=&quot;float:right;&quot;&gt;&lt;a href=&quot;data:audio/midi;base64,TVRoZAAAAAYAAQADANxNVHJrAAAAGwD/UQMNFDcA/1EDDRQ2AP9YBAQCGAiNYP8vAE1UcmsAAADkAP8DGTIwMjQwMTIxLTA3MC0wMV8wMDQxLTAwNDcAwACBZ5AqJwArODcqAAUrACIqIworNhAqAFQrAAMkJiQkAFU3FQA8IgA/GhM8AAY/AAM3AIFCPywDPCcCNyQcPwACNwACPACBLD89Ajc4ADw5XDwAAjcABT8AByojBys6JCoAACsANyopBystAD84AjcxADw0EyoAQjcAAD8AAzwAEiQ+BCsAHCQAVTwrAD8kAjckFTcABDwABT8AgUA8LQA/KgM3Jhk3AAQ8AAM/AIE8PzUCNy8APDNANwAFPwACPAAA/y8ATVRyawAAAGQA/wMEdGlja4Fc/wEGYmVhdCAwgVz/AQZiZWF0IDGBXP8BBmJlYXQgMoFc/wEGYmVhdCAzgVz/AQZiZWF0IDSBXP8BBmJlYXQgNYFc/wEGYmVhdCA2gVz/AQZiZWF0IDcA/y8A&quot; target=&quot;_blank&quot;&gt;Download MIDI&lt;/a&gt;&lt;br&gt;&lt;/span&gt;&lt;/p&gt;\n",
       "          &lt;midi-player src=data:audio/midi;base64,TVRoZAAAAAYAAQADANxNVHJrAAAAGwD/UQMNFDcA/1EDDRQ2AP9YBAQCGAiNYP8vAE1UcmsAAADkAP8DGTIwMjQwMTIxLTA3MC0wMV8wMDQxLTAwNDcAwACBZ5AqJwArODcqAAUrACIqIworNhAqAFQrAAMkJiQkAFU3FQA8IgA/GhM8AAY/AAM3AIFCPywDPCcCNyQcPwACNwACPACBLD89Ajc4ADw5XDwAAjcABT8AByojBys6JCoAACsANyopBystAD84AjcxADw0EyoAQjcAAD8AAzwAEiQ+BCsAHCQAVTwrAD8kAjckFTcABDwABT8AgUA8LQA/KgM3Jhk3AAQ8AAM/AIE8PzUCNy8APDNANwAFPwACPAAA/y8ATVRyawAAAGQA/wMEdGlja4Fc/wEGYmVhdCAwgVz/AQZiZWF0IDGBXP8BBmJlYXQgMoFc/wEGYmVhdCAzgVz/AQZiZWF0IDSBXP8BBmJlYXQgNYFc/wEGYmVhdCA2gVz/AQZiZWF0IDcA/y8A sound-font visualizer=&quot;#section11 midi-visualizer&quot;&gt;&lt;/midi-player&gt;\n",
       "          &lt;midi-visualizer src=data:audio/midi;base64,TVRoZAAAAAYAAQADANxNVHJrAAAAGwD/UQMNFDcA/1EDDRQ2AP9YBAQCGAiNYP8vAE1UcmsAAADkAP8DGTIwMjQwMTIxLTA3MC0wMV8wMDQxLTAwNDcAwACBZ5AqJwArODcqAAUrACIqIworNhAqAFQrAAMkJiQkAFU3FQA8IgA/GhM8AAY/AAM3AIFCPywDPCcCNyQcPwACNwACPACBLD89Ajc4ADw5XDwAAjcABT8AByojBys6JCoAACsANyopBystAD84AjcxADw0EyoAQjcAAD8AAzwAEiQ+BCsAHCQAVTwrAD8kAjckFTcABDwABT8AgUA8LQA/KgM3Jhk3AAQ8AAM/AIE8PzUCNy8APDNANwAFPwACPAAA/y8ATVRyawAAAGQA/wMEdGlja4Fc/wEGYmVhdCAwgVz/AQZiZWF0IDGBXP8BBmJlYXQgMoFc/wEGYmVhdCAzgVz/AQZiZWF0IDSBXP8BBmJlYXQgNYFc/wEGYmVhdCA2gVz/AQZiZWF0IDcA/y8A type=piano-roll&gt;&lt;/midi-visualizer&gt;\n",
       "          &lt;/section&gt;\n",
       "          \" width=\"100%\" height=\"300\"\n",
       "            style=\"border:none !important;\"\n",
       "            \"allowfullscreen\" \"webkitallowfullscreen\" \"mozallowfullscreen\">'\n",
       "            </iframe>"
      ],
      "text/plain": [
       "<midi_player.midi_player.MIDIPlayer at 0x7f2d4020b5b0>"
      ]
     },
     "execution_count": 13,
     "metadata": {},
     "output_type": "execute_result"
    }
   ],
   "source": [
    "print(\n",
    "    f\"{os.path.basename(matched_sims[0][0])} has similarity {matched_sims[0][1]:.03f} to {midi_file}\"\n",
    ")\n",
    "MIDIPlayer(matched_sims[0][0], 300, styler=dark)"
   ]
  },
  {
   "cell_type": "markdown",
   "metadata": {},
   "source": [
    "### best match"
   ]
  },
  {
   "cell_type": "code",
   "execution_count": 29,
   "metadata": {},
   "outputs": [
    {
     "name": "stdout",
     "output_type": "stream",
     "text": [
      "20240121-070-01_0027-0034.mid has similarity 0.230 to 20240121-070-01_0041-0047.mid\n"
     ]
    },
    {
     "data": {
      "text/html": [
       "<iframe srcdoc=\"&lt;script src=&quot;https://cdn.jsdelivr.net/combine/npm/tone@14.7.58,npm/@magenta/music@1.23.1/es6/core.js,npm/focus-visible@5,npm/html-midi-player@1.5.0&quot;&gt;&lt;/script&gt;\n",
       "\n",
       "&lt;style&gt;\n",
       "/* Custom player style */\n",
       "p { \n",
       "  margin:0; \n",
       "  color: #c4c4c4; /* mid-lightness text color for title, intended for dark backgrounds */\n",
       "}\n",
       "\n",
       "#section425 midi-player {\n",
       "  display: block;\n",
       "  width: inherit;\n",
       "  margin: 4px;\n",
       "  margin-bottom: 0;\n",
       "  color: #d4d4d4; /* Lighter text color for better readability */\n",
       "}\n",
       "#section425 midi-player::part(control-panel) {\n",
       "  background: #222; /* Dark background */\n",
       "  border: 2px solid #888; /* Lightened border color for contrast */\n",
       "  border-radius: 10px 10px 0 0;\n",
       "}\n",
       "#section425 midi-player::part(play-button) {\n",
       "  color: #ffffff; /* White text for visibility */\n",
       "  border: 2px solid currentColor;\n",
       "  background-color: #6c7a89; \n",
       "  border-radius: 20px;\n",
       "  transition: all 0.2s;\n",
       "  content: &#x27;hello&#x27;;\n",
       "}\n",
       "#section425 midi-player::part(play-button):hover {\n",
       "  color: #00a; \n",
       "  background-color: #9fafc9; \n",
       "  border-radius: 10px;\n",
       "}\n",
       "#section425 midi-player::part(time) {\n",
       "  font-family: monospace; /* Monospace font for time */\n",
       "}\n",
       "\n",
       "/* Custom visualizer style */\n",
       "#section425 midi-visualizer .piano-roll-visualizer {\n",
       "  background: #333; /* Dark background for visualizer */\n",
       "  border: 2px solid #505050; /* Dark border for subtle appearance */\n",
       "  border-top: none;\n",
       "  border-radius: 0 0 10px 10px;\n",
       "  margin: 4px;\n",
       "  width: inherit;\n",
       "  margin-top: 0;\n",
       "  overflow: auto;\n",
       "}\n",
       "#section425 midi-visualizer svg rect.note {\n",
       "  opacity: 0.9; \n",
       "  stroke-width: 1; /* Stroke width for note clarity */\n",
       "}\n",
       "\n",
       "/* Different instrument colors */\n",
       "#section425 midi-visualizer svg rect.note[data-instrument=&quot;0&quot;]{\n",
       "  fill: #7aa6ed; /*  blue for Instrument 0 */\n",
       "  stroke: #444; \n",
       "}\n",
       "#section425 midi-visualizer svg rect.note[data-instrument=&quot;2&quot;]{\n",
       "  fill: #d586d0; /* purple for Instrument 2 for consistency */\n",
       "  stroke: #444; /* White stroke for visibility */\n",
       "}\n",
       "#section425 midi-visualizer svg rect.note[data-is-drum=&quot;true&quot;]{\n",
       "  fill: brightorange; \n",
       "  stroke: #bbb;\n",
       "}\n",
       "#section425 midi-visualizer svg rect.note.active {\n",
       "  opacity: 0.9; /* Highlight active notes */\n",
       "  stroke: #ddd; /* White stroke for maximum contrast */\n",
       "  stroke-width: 2; /* Thicker stroke for active notes */\n",
       "}\n",
       "&lt;/style&gt;\n",
       "\n",
       "          &lt;section id=&quot;section425&quot;&gt;&lt;p style=&quot;text-align:left;font-family:Arial;&quot;&gt;&amp;nbsp;&lt;span style=&quot;float:right;&quot;&gt;&lt;a href=&quot;data:audio/midi;base64,TVRoZAAAAAYAAQADANxNVHJrAAAAGwD/UQMLcbAA/1EDC3GwAP9YBAQCGAiNYP8vAE1UcmsAAACOAP8DGTIwMjQwMzEyLTA4MC0wNV8wMDAwLTAwMDUAwACBXpBAJwcyGQA1HAA5IgA8KwUmGoREJgAAMgAUQAAMNQAEOQAFPAAiQDMCJiMDMigENSwAOS0DPDIUMgAOJgAHNQACQAAMOQAQPAAiQC0COzYFHzIAKzECNSYpQAAFHwAANQAAOwAFKwCFNv8vAE1UcmsAAABkAP8DBHRpY2uBXP8BBmJlYXQgMIFc/wEGYmVhdCAxgVz/AQZiZWF0IDKBXP8BBmJlYXQgM4Fc/wEGYmVhdCA0gVz/AQZiZWF0IDWBXP8BBmJlYXQgNoFc/wEGYmVhdCA3AP8vAA==&quot; target=&quot;_blank&quot;&gt;Download MIDI&lt;/a&gt;&lt;br&gt;&lt;/span&gt;&lt;/p&gt;\n",
       "          &lt;midi-player src=data:audio/midi;base64,TVRoZAAAAAYAAQADANxNVHJrAAAAGwD/UQMLcbAA/1EDC3GwAP9YBAQCGAiNYP8vAE1UcmsAAACOAP8DGTIwMjQwMzEyLTA4MC0wNV8wMDAwLTAwMDUAwACBXpBAJwcyGQA1HAA5IgA8KwUmGoREJgAAMgAUQAAMNQAEOQAFPAAiQDMCJiMDMigENSwAOS0DPDIUMgAOJgAHNQACQAAMOQAQPAAiQC0COzYFHzIAKzECNSYpQAAFHwAANQAAOwAFKwCFNv8vAE1UcmsAAABkAP8DBHRpY2uBXP8BBmJlYXQgMIFc/wEGYmVhdCAxgVz/AQZiZWF0IDKBXP8BBmJlYXQgM4Fc/wEGYmVhdCA0gVz/AQZiZWF0IDWBXP8BBmJlYXQgNoFc/wEGYmVhdCA3AP8vAA== sound-font visualizer=&quot;#section425 midi-visualizer&quot;&gt;&lt;/midi-player&gt;\n",
       "          &lt;midi-visualizer src=data:audio/midi;base64,TVRoZAAAAAYAAQADANxNVHJrAAAAGwD/UQMLcbAA/1EDC3GwAP9YBAQCGAiNYP8vAE1UcmsAAACOAP8DGTIwMjQwMzEyLTA4MC0wNV8wMDAwLTAwMDUAwACBXpBAJwcyGQA1HAA5IgA8KwUmGoREJgAAMgAUQAAMNQAEOQAFPAAiQDMCJiMDMigENSwAOS0DPDIUMgAOJgAHNQACQAAMOQAQPAAiQC0COzYFHzIAKzECNSYpQAAFHwAANQAAOwAFKwCFNv8vAE1UcmsAAABkAP8DBHRpY2uBXP8BBmJlYXQgMIFc/wEGYmVhdCAxgVz/AQZiZWF0IDKBXP8BBmJlYXQgM4Fc/wEGYmVhdCA0gVz/AQZiZWF0IDWBXP8BBmJlYXQgNoFc/wEGYmVhdCA3AP8vAA== type=piano-roll&gt;&lt;/midi-visualizer&gt;\n",
       "          &lt;/section&gt;\n",
       "          \" width=\"100%\" height=\"300\"\n",
       "            style=\"border:none !important;\"\n",
       "            \"allowfullscreen\" \"webkitallowfullscreen\" \"mozallowfullscreen\">'\n",
       "            </iframe>"
      ],
      "text/plain": [
       "<midi_player.midi_player.MIDIPlayer at 0x7f2d3ffa95d0>"
      ]
     },
     "execution_count": 29,
     "metadata": {},
     "output_type": "execute_result"
    }
   ],
   "source": [
    "print(\n",
    "    f\"{os.path.basename(matched_sims[1][0])} has similarity {similarities[19]:.03f} to {midi_file}\"\n",
    ")\n",
    "MIDIPlayer(midi_segments[19], 300, styler=dark)"
   ]
  },
  {
   "cell_type": "markdown",
   "metadata": {},
   "source": [
    "### second best match"
   ]
  },
  {
   "cell_type": "code",
   "execution_count": 15,
   "metadata": {},
   "outputs": [
    {
     "name": "stdout",
     "output_type": "stream",
     "text": [
      "20240121-070-01_0020-0027.mid has similarity 0.925 to 20240121-070-01_0041-0047.mid\n"
     ]
    },
    {
     "data": {
      "text/html": [
       "<iframe srcdoc=\"&lt;script src=&quot;https://cdn.jsdelivr.net/combine/npm/tone@14.7.58,npm/@magenta/music@1.23.1/es6/core.js,npm/focus-visible@5,npm/html-midi-player@1.5.0&quot;&gt;&lt;/script&gt;\n",
       "\n",
       "&lt;style&gt;\n",
       "/* Custom player style */\n",
       "p { \n",
       "  margin:0; \n",
       "  color: #c4c4c4; /* mid-lightness text color for title, intended for dark backgrounds */\n",
       "}\n",
       "\n",
       "#section55 midi-player {\n",
       "  display: block;\n",
       "  width: inherit;\n",
       "  margin: 4px;\n",
       "  margin-bottom: 0;\n",
       "  color: #d4d4d4; /* Lighter text color for better readability */\n",
       "}\n",
       "#section55 midi-player::part(control-panel) {\n",
       "  background: #222; /* Dark background */\n",
       "  border: 2px solid #888; /* Lightened border color for contrast */\n",
       "  border-radius: 10px 10px 0 0;\n",
       "}\n",
       "#section55 midi-player::part(play-button) {\n",
       "  color: #ffffff; /* White text for visibility */\n",
       "  border: 2px solid currentColor;\n",
       "  background-color: #6c7a89; \n",
       "  border-radius: 20px;\n",
       "  transition: all 0.2s;\n",
       "  content: &#x27;hello&#x27;;\n",
       "}\n",
       "#section55 midi-player::part(play-button):hover {\n",
       "  color: #00a; \n",
       "  background-color: #9fafc9; \n",
       "  border-radius: 10px;\n",
       "}\n",
       "#section55 midi-player::part(time) {\n",
       "  font-family: monospace; /* Monospace font for time */\n",
       "}\n",
       "\n",
       "/* Custom visualizer style */\n",
       "#section55 midi-visualizer .piano-roll-visualizer {\n",
       "  background: #333; /* Dark background for visualizer */\n",
       "  border: 2px solid #505050; /* Dark border for subtle appearance */\n",
       "  border-top: none;\n",
       "  border-radius: 0 0 10px 10px;\n",
       "  margin: 4px;\n",
       "  width: inherit;\n",
       "  margin-top: 0;\n",
       "  overflow: auto;\n",
       "}\n",
       "#section55 midi-visualizer svg rect.note {\n",
       "  opacity: 0.9; \n",
       "  stroke-width: 1; /* Stroke width for note clarity */\n",
       "}\n",
       "\n",
       "/* Different instrument colors */\n",
       "#section55 midi-visualizer svg rect.note[data-instrument=&quot;0&quot;]{\n",
       "  fill: #7aa6ed; /*  blue for Instrument 0 */\n",
       "  stroke: #444; \n",
       "}\n",
       "#section55 midi-visualizer svg rect.note[data-instrument=&quot;2&quot;]{\n",
       "  fill: #d586d0; /* purple for Instrument 2 for consistency */\n",
       "  stroke: #444; /* White stroke for visibility */\n",
       "}\n",
       "#section55 midi-visualizer svg rect.note[data-is-drum=&quot;true&quot;]{\n",
       "  fill: brightorange; \n",
       "  stroke: #bbb;\n",
       "}\n",
       "#section55 midi-visualizer svg rect.note.active {\n",
       "  opacity: 0.9; /* Highlight active notes */\n",
       "  stroke: #ddd; /* White stroke for maximum contrast */\n",
       "  stroke-width: 2; /* Thicker stroke for active notes */\n",
       "}\n",
       "&lt;/style&gt;\n",
       "\n",
       "          &lt;section id=&quot;section55&quot;&gt;&lt;p style=&quot;text-align:left;font-family:Arial;&quot;&gt;&amp;nbsp;&lt;span style=&quot;float:right;&quot;&gt;&lt;a href=&quot;data:audio/midi;base64,TVRoZAAAAAYAAQADANxNVHJrAAAAGwD/UQMNFDcA/1EDDRQ2AP9YBAQCGAiNYP8vAE1UcmsAAADSAP8DGTIwMjQwMTIxLTA3MC0wMV8wMDIwLTAwMjcAwACBV5ArKHE8MwI3KgA/NgsrAFM3AAI8AAM/AAskMiUkAE43JwA8KQA/KB03AAA8AAM/AIE5PCYAPyEHNxQTPAACNwAAPwCBPjwrAD8tAjcoFTcABzwAAD8ATiskbjcnAD8xAjwuTCsAEjcAADwABT8ABCQxJSQATj8qAjcmADwvHDcAADwAAj8AgUM3JgA8LQA/JBc8AAk3AAA/AIE+NzAAPzUCPDMZNwADPAAEPwAA/y8ATVRyawAAAGQA/wMEdGlja4Fc/wEGYmVhdCAwgVz/AQZiZWF0IDGBXP8BBmJlYXQgMoFc/wEGYmVhdCAzgVz/AQZiZWF0IDSBXP8BBmJlYXQgNYFc/wEGYmVhdCA2gVz/AQZiZWF0IDcA/y8A&quot; target=&quot;_blank&quot;&gt;Download MIDI&lt;/a&gt;&lt;br&gt;&lt;/span&gt;&lt;/p&gt;\n",
       "          &lt;midi-player src=data:audio/midi;base64,TVRoZAAAAAYAAQADANxNVHJrAAAAGwD/UQMNFDcA/1EDDRQ2AP9YBAQCGAiNYP8vAE1UcmsAAADSAP8DGTIwMjQwMTIxLTA3MC0wMV8wMDIwLTAwMjcAwACBV5ArKHE8MwI3KgA/NgsrAFM3AAI8AAM/AAskMiUkAE43JwA8KQA/KB03AAA8AAM/AIE5PCYAPyEHNxQTPAACNwAAPwCBPjwrAD8tAjcoFTcABzwAAD8ATiskbjcnAD8xAjwuTCsAEjcAADwABT8ABCQxJSQATj8qAjcmADwvHDcAADwAAj8AgUM3JgA8LQA/JBc8AAk3AAA/AIE+NzAAPzUCPDMZNwADPAAEPwAA/y8ATVRyawAAAGQA/wMEdGlja4Fc/wEGYmVhdCAwgVz/AQZiZWF0IDGBXP8BBmJlYXQgMoFc/wEGYmVhdCAzgVz/AQZiZWF0IDSBXP8BBmJlYXQgNYFc/wEGYmVhdCA2gVz/AQZiZWF0IDcA/y8A sound-font visualizer=&quot;#section55 midi-visualizer&quot;&gt;&lt;/midi-player&gt;\n",
       "          &lt;midi-visualizer src=data:audio/midi;base64,TVRoZAAAAAYAAQADANxNVHJrAAAAGwD/UQMNFDcA/1EDDRQ2AP9YBAQCGAiNYP8vAE1UcmsAAADSAP8DGTIwMjQwMTIxLTA3MC0wMV8wMDIwLTAwMjcAwACBV5ArKHE8MwI3KgA/NgsrAFM3AAI8AAM/AAskMiUkAE43JwA8KQA/KB03AAA8AAM/AIE5PCYAPyEHNxQTPAACNwAAPwCBPjwrAD8tAjcoFTcABzwAAD8ATiskbjcnAD8xAjwuTCsAEjcAADwABT8ABCQxJSQATj8qAjcmADwvHDcAADwAAj8AgUM3JgA8LQA/JBc8AAk3AAA/AIE+NzAAPzUCPDMZNwADPAAEPwAA/y8ATVRyawAAAGQA/wMEdGlja4Fc/wEGYmVhdCAwgVz/AQZiZWF0IDGBXP8BBmJlYXQgMoFc/wEGYmVhdCAzgVz/AQZiZWF0IDSBXP8BBmJlYXQgNYFc/wEGYmVhdCA2gVz/AQZiZWF0IDcA/y8A type=piano-roll&gt;&lt;/midi-visualizer&gt;\n",
       "          &lt;/section&gt;\n",
       "          \" width=\"100%\" height=\"300\"\n",
       "            style=\"border:none !important;\"\n",
       "            \"allowfullscreen\" \"webkitallowfullscreen\" \"mozallowfullscreen\">'\n",
       "            </iframe>"
      ],
      "text/plain": [
       "<midi_player.midi_player.MIDIPlayer at 0x7f2e30d131f0>"
      ]
     },
     "execution_count": 15,
     "metadata": {},
     "output_type": "execute_result"
    }
   ],
   "source": [
    "print(\n",
    "    f\"{os.path.basename(matched_sims[2][0])} has similarity {matched_sims[2][1]:.03f} to {midi_file}\"\n",
    ")\n",
    "MIDIPlayer(matched_sims[2][0], 300, styler=dark)"
   ]
  },
  {
   "cell_type": "markdown",
   "metadata": {},
   "source": [
    "### third best match"
   ]
  },
  {
   "cell_type": "code",
   "execution_count": 16,
   "metadata": {},
   "outputs": [
    {
     "name": "stdout",
     "output_type": "stream",
     "text": [
      "20240121-070-01_0013-0020.mid has similarity 0.893 to 20240121-070-01_0041-0047.mid\n"
     ]
    },
    {
     "data": {
      "text/html": [
       "<iframe srcdoc=\"&lt;script src=&quot;https://cdn.jsdelivr.net/combine/npm/tone@14.7.58,npm/@magenta/music@1.23.1/es6/core.js,npm/focus-visible@5,npm/html-midi-player@1.5.0&quot;&gt;&lt;/script&gt;\n",
       "\n",
       "&lt;style&gt;\n",
       "/* Custom player style */\n",
       "p { \n",
       "  margin:0; \n",
       "  color: #c4c4c4; /* mid-lightness text color for title, intended for dark backgrounds */\n",
       "}\n",
       "\n",
       "#section301 midi-player {\n",
       "  display: block;\n",
       "  width: inherit;\n",
       "  margin: 4px;\n",
       "  margin-bottom: 0;\n",
       "  color: #d4d4d4; /* Lighter text color for better readability */\n",
       "}\n",
       "#section301 midi-player::part(control-panel) {\n",
       "  background: #222; /* Dark background */\n",
       "  border: 2px solid #888; /* Lightened border color for contrast */\n",
       "  border-radius: 10px 10px 0 0;\n",
       "}\n",
       "#section301 midi-player::part(play-button) {\n",
       "  color: #ffffff; /* White text for visibility */\n",
       "  border: 2px solid currentColor;\n",
       "  background-color: #6c7a89; \n",
       "  border-radius: 20px;\n",
       "  transition: all 0.2s;\n",
       "  content: &#x27;hello&#x27;;\n",
       "}\n",
       "#section301 midi-player::part(play-button):hover {\n",
       "  color: #00a; \n",
       "  background-color: #9fafc9; \n",
       "  border-radius: 10px;\n",
       "}\n",
       "#section301 midi-player::part(time) {\n",
       "  font-family: monospace; /* Monospace font for time */\n",
       "}\n",
       "\n",
       "/* Custom visualizer style */\n",
       "#section301 midi-visualizer .piano-roll-visualizer {\n",
       "  background: #333; /* Dark background for visualizer */\n",
       "  border: 2px solid #505050; /* Dark border for subtle appearance */\n",
       "  border-top: none;\n",
       "  border-radius: 0 0 10px 10px;\n",
       "  margin: 4px;\n",
       "  width: inherit;\n",
       "  margin-top: 0;\n",
       "  overflow: auto;\n",
       "}\n",
       "#section301 midi-visualizer svg rect.note {\n",
       "  opacity: 0.9; \n",
       "  stroke-width: 1; /* Stroke width for note clarity */\n",
       "}\n",
       "\n",
       "/* Different instrument colors */\n",
       "#section301 midi-visualizer svg rect.note[data-instrument=&quot;0&quot;]{\n",
       "  fill: #7aa6ed; /*  blue for Instrument 0 */\n",
       "  stroke: #444; \n",
       "}\n",
       "#section301 midi-visualizer svg rect.note[data-instrument=&quot;2&quot;]{\n",
       "  fill: #d586d0; /* purple for Instrument 2 for consistency */\n",
       "  stroke: #444; /* White stroke for visibility */\n",
       "}\n",
       "#section301 midi-visualizer svg rect.note[data-is-drum=&quot;true&quot;]{\n",
       "  fill: brightorange; \n",
       "  stroke: #bbb;\n",
       "}\n",
       "#section301 midi-visualizer svg rect.note.active {\n",
       "  opacity: 0.9; /* Highlight active notes */\n",
       "  stroke: #ddd; /* White stroke for maximum contrast */\n",
       "  stroke-width: 2; /* Thicker stroke for active notes */\n",
       "}\n",
       "&lt;/style&gt;\n",
       "\n",
       "          &lt;section id=&quot;section301&quot;&gt;&lt;p style=&quot;text-align:left;font-family:Arial;&quot;&gt;&amp;nbsp;&lt;span style=&quot;float:right;&quot;&gt;&lt;a href=&quot;data:audio/midi;base64,TVRoZAAAAAYAAQADANxNVHJrAAAAGwD/UQMNFDcA/1EDDRQ2AP9YBAQCGAiNYP8vAE1UcmsAAADMAP8DGTIwMjQwMTIxLTA3MC0wMV8wMDEzLTAwMjAAwACCT5A8NgI3KgI/Mlc3AAM8AAI/AAIkLCUkAFI/IgM3IQA8LBQ8AAU/AAI3AIFFPCwCNyIAPyQXNwAFPAACPwCBPjwoAzchAD8mFDcAADwAAz8ATiskbisAAjcsADw1AD82YjcAAz8AAjwAAiQoJSQAQjwsAD8rBTcqEDcABzwAAj8AgUM3JgA8KQA/LBc3AAA8AAI/AIFDNyIAPCoAPykXNwAAPAAAPwAA/y8ATVRyawAAAGQA/wMEdGlja4Fc/wEGYmVhdCAwgVz/AQZiZWF0IDGBXP8BBmJlYXQgMoFc/wEGYmVhdCAzgVz/AQZiZWF0IDSBXP8BBmJlYXQgNYFc/wEGYmVhdCA2gVz/AQZiZWF0IDcA/y8A&quot; target=&quot;_blank&quot;&gt;Download MIDI&lt;/a&gt;&lt;br&gt;&lt;/span&gt;&lt;/p&gt;\n",
       "          &lt;midi-player src=data:audio/midi;base64,TVRoZAAAAAYAAQADANxNVHJrAAAAGwD/UQMNFDcA/1EDDRQ2AP9YBAQCGAiNYP8vAE1UcmsAAADMAP8DGTIwMjQwMTIxLTA3MC0wMV8wMDEzLTAwMjAAwACCT5A8NgI3KgI/Mlc3AAM8AAI/AAIkLCUkAFI/IgM3IQA8LBQ8AAU/AAI3AIFFPCwCNyIAPyQXNwAFPAACPwCBPjwoAzchAD8mFDcAADwAAz8ATiskbisAAjcsADw1AD82YjcAAz8AAjwAAiQoJSQAQjwsAD8rBTcqEDcABzwAAj8AgUM3JgA8KQA/LBc3AAA8AAI/AIFDNyIAPCoAPykXNwAAPAAAPwAA/y8ATVRyawAAAGQA/wMEdGlja4Fc/wEGYmVhdCAwgVz/AQZiZWF0IDGBXP8BBmJlYXQgMoFc/wEGYmVhdCAzgVz/AQZiZWF0IDSBXP8BBmJlYXQgNYFc/wEGYmVhdCA2gVz/AQZiZWF0IDcA/y8A sound-font visualizer=&quot;#section301 midi-visualizer&quot;&gt;&lt;/midi-player&gt;\n",
       "          &lt;midi-visualizer src=data:audio/midi;base64,TVRoZAAAAAYAAQADANxNVHJrAAAAGwD/UQMNFDcA/1EDDRQ2AP9YBAQCGAiNYP8vAE1UcmsAAADMAP8DGTIwMjQwMTIxLTA3MC0wMV8wMDEzLTAwMjAAwACCT5A8NgI3KgI/Mlc3AAM8AAI/AAIkLCUkAFI/IgM3IQA8LBQ8AAU/AAI3AIFFPCwCNyIAPyQXNwAFPAACPwCBPjwoAzchAD8mFDcAADwAAz8ATiskbisAAjcsADw1AD82YjcAAz8AAjwAAiQoJSQAQjwsAD8rBTcqEDcABzwAAj8AgUM3JgA8KQA/LBc3AAA8AAI/AIFDNyIAPCoAPykXNwAAPAAAPwAA/y8ATVRyawAAAGQA/wMEdGlja4Fc/wEGYmVhdCAwgVz/AQZiZWF0IDGBXP8BBmJlYXQgMoFc/wEGYmVhdCAzgVz/AQZiZWF0IDSBXP8BBmJlYXQgNYFc/wEGYmVhdCA2gVz/AQZiZWF0IDcA/y8A type=piano-roll&gt;&lt;/midi-visualizer&gt;\n",
       "          &lt;/section&gt;\n",
       "          \" width=\"100%\" height=\"300\"\n",
       "            style=\"border:none !important;\"\n",
       "            \"allowfullscreen\" \"webkitallowfullscreen\" \"mozallowfullscreen\">'\n",
       "            </iframe>"
      ],
      "text/plain": [
       "<midi_player.midi_player.MIDIPlayer at 0x7f2d4020ae90>"
      ]
     },
     "execution_count": 16,
     "metadata": {},
     "output_type": "execute_result"
    }
   ],
   "source": [
    "print(\n",
    "    f\"{os.path.basename(matched_sims[3][0])} has similarity {matched_sims[3][1]:.03f} to {midi_file}\"\n",
    ")\n",
    "MIDIPlayer(matched_sims[3][0], 300, styler=dark)"
   ]
  },
  {
   "cell_type": "markdown",
   "metadata": {},
   "source": [
    "### worst match"
   ]
  },
  {
   "cell_type": "code",
   "execution_count": 17,
   "metadata": {},
   "outputs": [
    {
     "name": "stdout",
     "output_type": "stream",
     "text": [
      "20240312-080-05_0000-0005.mid has similarity 0.230 to 20240121-070-01_0041-0047.mid\n"
     ]
    },
    {
     "data": {
      "text/html": [
       "<iframe srcdoc=\"&lt;script src=&quot;https://cdn.jsdelivr.net/combine/npm/tone@14.7.58,npm/@magenta/music@1.23.1/es6/core.js,npm/focus-visible@5,npm/html-midi-player@1.5.0&quot;&gt;&lt;/script&gt;\n",
       "\n",
       "&lt;style&gt;\n",
       "/* Custom player style */\n",
       "p { \n",
       "  margin:0; \n",
       "  color: #c4c4c4; /* mid-lightness text color for title, intended for dark backgrounds */\n",
       "}\n",
       "\n",
       "#section139 midi-player {\n",
       "  display: block;\n",
       "  width: inherit;\n",
       "  margin: 4px;\n",
       "  margin-bottom: 0;\n",
       "  color: #d4d4d4; /* Lighter text color for better readability */\n",
       "}\n",
       "#section139 midi-player::part(control-panel) {\n",
       "  background: #222; /* Dark background */\n",
       "  border: 2px solid #888; /* Lightened border color for contrast */\n",
       "  border-radius: 10px 10px 0 0;\n",
       "}\n",
       "#section139 midi-player::part(play-button) {\n",
       "  color: #ffffff; /* White text for visibility */\n",
       "  border: 2px solid currentColor;\n",
       "  background-color: #6c7a89; \n",
       "  border-radius: 20px;\n",
       "  transition: all 0.2s;\n",
       "  content: &#x27;hello&#x27;;\n",
       "}\n",
       "#section139 midi-player::part(play-button):hover {\n",
       "  color: #00a; \n",
       "  background-color: #9fafc9; \n",
       "  border-radius: 10px;\n",
       "}\n",
       "#section139 midi-player::part(time) {\n",
       "  font-family: monospace; /* Monospace font for time */\n",
       "}\n",
       "\n",
       "/* Custom visualizer style */\n",
       "#section139 midi-visualizer .piano-roll-visualizer {\n",
       "  background: #333; /* Dark background for visualizer */\n",
       "  border: 2px solid #505050; /* Dark border for subtle appearance */\n",
       "  border-top: none;\n",
       "  border-radius: 0 0 10px 10px;\n",
       "  margin: 4px;\n",
       "  width: inherit;\n",
       "  margin-top: 0;\n",
       "  overflow: auto;\n",
       "}\n",
       "#section139 midi-visualizer svg rect.note {\n",
       "  opacity: 0.9; \n",
       "  stroke-width: 1; /* Stroke width for note clarity */\n",
       "}\n",
       "\n",
       "/* Different instrument colors */\n",
       "#section139 midi-visualizer svg rect.note[data-instrument=&quot;0&quot;]{\n",
       "  fill: #7aa6ed; /*  blue for Instrument 0 */\n",
       "  stroke: #444; \n",
       "}\n",
       "#section139 midi-visualizer svg rect.note[data-instrument=&quot;2&quot;]{\n",
       "  fill: #d586d0; /* purple for Instrument 2 for consistency */\n",
       "  stroke: #444; /* White stroke for visibility */\n",
       "}\n",
       "#section139 midi-visualizer svg rect.note[data-is-drum=&quot;true&quot;]{\n",
       "  fill: brightorange; \n",
       "  stroke: #bbb;\n",
       "}\n",
       "#section139 midi-visualizer svg rect.note.active {\n",
       "  opacity: 0.9; /* Highlight active notes */\n",
       "  stroke: #ddd; /* White stroke for maximum contrast */\n",
       "  stroke-width: 2; /* Thicker stroke for active notes */\n",
       "}\n",
       "&lt;/style&gt;\n",
       "\n",
       "          &lt;section id=&quot;section139&quot;&gt;&lt;p style=&quot;text-align:left;font-family:Arial;&quot;&gt;&amp;nbsp;&lt;span style=&quot;float:right;&quot;&gt;&lt;a href=&quot;data:audio/midi;base64,TVRoZAAAAAYAAQADANxNVHJrAAAAGwD/UQMLcbAA/1EDC3GwAP9YBAQCGAiNYP8vAE1UcmsAAACOAP8DGTIwMjQwMzEyLTA4MC0wNV8wMDAwLTAwMDUAwACBXpBAJwcyGQA1HAA5IgA8KwUmGoREJgAAMgAUQAAMNQAEOQAFPAAiQDMCJiMDMigENSwAOS0DPDIUMgAOJgAHNQACQAAMOQAQPAAiQC0COzYFHzIAKzECNSYpQAAFHwAANQAAOwAFKwCFNv8vAE1UcmsAAABkAP8DBHRpY2uBXP8BBmJlYXQgMIFc/wEGYmVhdCAxgVz/AQZiZWF0IDKBXP8BBmJlYXQgM4Fc/wEGYmVhdCA0gVz/AQZiZWF0IDWBXP8BBmJlYXQgNoFc/wEGYmVhdCA3AP8vAA==&quot; target=&quot;_blank&quot;&gt;Download MIDI&lt;/a&gt;&lt;br&gt;&lt;/span&gt;&lt;/p&gt;\n",
       "          &lt;midi-player src=data:audio/midi;base64,TVRoZAAAAAYAAQADANxNVHJrAAAAGwD/UQMLcbAA/1EDC3GwAP9YBAQCGAiNYP8vAE1UcmsAAACOAP8DGTIwMjQwMzEyLTA4MC0wNV8wMDAwLTAwMDUAwACBXpBAJwcyGQA1HAA5IgA8KwUmGoREJgAAMgAUQAAMNQAEOQAFPAAiQDMCJiMDMigENSwAOS0DPDIUMgAOJgAHNQACQAAMOQAQPAAiQC0COzYFHzIAKzECNSYpQAAFHwAANQAAOwAFKwCFNv8vAE1UcmsAAABkAP8DBHRpY2uBXP8BBmJlYXQgMIFc/wEGYmVhdCAxgVz/AQZiZWF0IDKBXP8BBmJlYXQgM4Fc/wEGYmVhdCA0gVz/AQZiZWF0IDWBXP8BBmJlYXQgNoFc/wEGYmVhdCA3AP8vAA== sound-font visualizer=&quot;#section139 midi-visualizer&quot;&gt;&lt;/midi-player&gt;\n",
       "          &lt;midi-visualizer src=data:audio/midi;base64,TVRoZAAAAAYAAQADANxNVHJrAAAAGwD/UQMLcbAA/1EDC3GwAP9YBAQCGAiNYP8vAE1UcmsAAACOAP8DGTIwMjQwMzEyLTA4MC0wNV8wMDAwLTAwMDUAwACBXpBAJwcyGQA1HAA5IgA8KwUmGoREJgAAMgAUQAAMNQAEOQAFPAAiQDMCJiMDMigENSwAOS0DPDIUMgAOJgAHNQACQAAMOQAQPAAiQC0COzYFHzIAKzECNSYpQAAFHwAANQAAOwAFKwCFNv8vAE1UcmsAAABkAP8DBHRpY2uBXP8BBmJlYXQgMIFc/wEGYmVhdCAxgVz/AQZiZWF0IDKBXP8BBmJlYXQgM4Fc/wEGYmVhdCA0gVz/AQZiZWF0IDWBXP8BBmJlYXQgNoFc/wEGYmVhdCA3AP8vAA== type=piano-roll&gt;&lt;/midi-visualizer&gt;\n",
       "          &lt;/section&gt;\n",
       "          \" width=\"100%\" height=\"400\"\n",
       "            style=\"border:none !important;\"\n",
       "            \"allowfullscreen\" \"webkitallowfullscreen\" \"mozallowfullscreen\">'\n",
       "            </iframe>"
      ],
      "text/plain": [
       "<midi_player.midi_player.MIDIPlayer at 0x7f2d4020a050>"
      ]
     },
     "execution_count": 17,
     "metadata": {},
     "output_type": "execute_result"
    }
   ],
   "source": [
    "print(\n",
    "    f\"{os.path.basename(matched_sims[-1][0])} has similarity {matched_sims[-1][1]:.03f} to {midi_file}\"\n",
    ")\n",
    "MIDIPlayer(matched_sims[-1][0], 400, styler=dark)"
   ]
  }
 ],
 "metadata": {
  "kernelspec": {
   "display_name": ".venv",
   "language": "python",
   "name": "python3"
  },
  "language_info": {
   "codemirror_mode": {
    "name": "ipython",
    "version": 3
   },
   "file_extension": ".py",
   "mimetype": "text/x-python",
   "name": "python",
   "nbconvert_exporter": "python",
   "pygments_lexer": "ipython3",
   "version": "3.10.13"
  }
 },
 "nbformat": 4,
 "nbformat_minor": 2
}
